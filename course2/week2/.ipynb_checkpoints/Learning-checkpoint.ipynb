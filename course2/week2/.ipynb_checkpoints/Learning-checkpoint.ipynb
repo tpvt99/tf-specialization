{
 "cells": [
  {
   "cell_type": "code",
   "execution_count": 1,
   "metadata": {},
   "outputs": [],
   "source": [
    "import tensorflow as tf\n",
    "from tensorflow.keras.preprocessing.image import ImageDataGenerator\n",
    "import os"
   ]
  },
  {
   "cell_type": "code",
   "execution_count": 2,
   "metadata": {},
   "outputs": [
    {
     "name": "stdout",
     "output_type": "stream",
     "text": [
      "D:\\CProgrammingLanguage\\tf-specialization\\course2\\data\\training-cat-or-dogs\\dogs\n",
      "D:\\CProgrammingLanguage\\tf-specialization\\course2\\data\\training-cat-or-dogs\\cats\n",
      "D:\\CProgrammingLanguage\\tf-specialization\\course2\\data\\validation-cat-or-dogs\\dogs\n",
      "D:\\CProgrammingLanguage\\tf-specialization\\course2\\data\\validation-cat-or-dogs\\cats\n",
      "Total training cat images:  1000\n",
      "Total training dog images:  1000\n",
      "Total validation cat images:  500\n",
      "Total validation dog images:  500\n"
     ]
    }
   ],
   "source": [
    "data_dir = os.path.join(os.path.dirname(os.path.abspath('.')), 'data')\n",
    "train_dir = os.path.join(data_dir, 'training-cat-or-dogs')\n",
    "validation_dir = os.path.join(data_dir, 'validation-cat-or-dogs')\n",
    "\n",
    "train_dir_dogs = os.path.join(train_dir, 'dogs')\n",
    "train_dir_cats = os.path.join(train_dir, 'cats')\n",
    "\n",
    "validation_dir_dogs = os.path.join(validation_dir, 'dogs')\n",
    "validation_dir_cats = os.path.join(validation_dir, 'cats')\n",
    "\n",
    "print(train_dir_dogs)\n",
    "print(train_dir_cats)\n",
    "\n",
    "print(validation_dir_dogs)\n",
    "print(validation_dir_cats)\n",
    "\n",
    "print('Total training cat images: ', len(os.listdir(train_dir_cats)))\n",
    "print('Total training dog images: ', len(os.listdir(train_dir_dogs)))\n",
    "\n",
    "print('Total validation cat images: ', len(os.listdir(validation_dir_cats)))\n",
    "print('Total validation dog images: ', len(os.listdir(validation_dir_dogs)))"
   ]
  },
  {
   "cell_type": "code",
   "execution_count": 3,
   "metadata": {},
   "outputs": [
    {
     "name": "stdout",
     "output_type": "stream",
     "text": [
      "Model: \"sequential\"\n",
      "_________________________________________________________________\n",
      "Layer (type)                 Output Shape              Param #   \n",
      "=================================================================\n",
      "conv2d (Conv2D)              (None, 148, 148, 32)      896       \n",
      "_________________________________________________________________\n",
      "max_pooling2d (MaxPooling2D) (None, 74, 74, 32)        0         \n",
      "_________________________________________________________________\n",
      "conv2d_1 (Conv2D)            (None, 72, 72, 64)        18496     \n",
      "_________________________________________________________________\n",
      "max_pooling2d_1 (MaxPooling2 (None, 36, 36, 64)        0         \n",
      "_________________________________________________________________\n",
      "conv2d_2 (Conv2D)            (None, 34, 34, 128)       73856     \n",
      "_________________________________________________________________\n",
      "max_pooling2d_2 (MaxPooling2 (None, 17, 17, 128)       0         \n",
      "_________________________________________________________________\n",
      "conv2d_3 (Conv2D)            (None, 15, 15, 128)       147584    \n",
      "_________________________________________________________________\n",
      "max_pooling2d_3 (MaxPooling2 (None, 7, 7, 128)         0         \n",
      "_________________________________________________________________\n",
      "flatten (Flatten)            (None, 6272)              0         \n",
      "_________________________________________________________________\n",
      "dense (Dense)                (None, 512)               3211776   \n",
      "_________________________________________________________________\n",
      "dense_1 (Dense)              (None, 1)                 513       \n",
      "=================================================================\n",
      "Total params: 3,453,121\n",
      "Trainable params: 3,453,121\n",
      "Non-trainable params: 0\n",
      "_________________________________________________________________\n"
     ]
    }
   ],
   "source": [
    "# Building the model\n",
    "\n",
    "model = tf.keras.Sequential([\n",
    "    tf.keras.layers.Conv2D(filters = 32, kernel_size=(3,3), activation='relu', input_shape=(150, 150, 3)),\n",
    "    tf.keras.layers.MaxPool2D(2,2),\n",
    "    tf.keras.layers.Conv2D(filters = 64, kernel_size = (3,3), activation = 'relu'),\n",
    "    tf.keras.layers.MaxPool2D(2,2),\n",
    "    tf.keras.layers.Conv2D(filters = 128, kernel_size = (3,3), activation = 'relu'),\n",
    "    tf.keras.layers.MaxPool2D(2,2),\n",
    "    tf.keras.layers.Conv2D(filters = 128, kernel_size = (3,3), activation = 'relu'),\n",
    "    tf.keras.layers.MaxPool2D(2,2),\n",
    "    tf.keras.layers.Flatten(),\n",
    "    tf.keras.layers.Dense(units = 512, activation = 'relu'),\n",
    "    tf.keras.layers.Dense(units = 1, activation = 'sigmoid')\n",
    "])\n",
    "\n",
    "model.summary()"
   ]
  },
  {
   "cell_type": "code",
   "execution_count": null,
   "metadata": {},
   "outputs": [],
   "source": []
  }
 ],
 "metadata": {
  "kernelspec": {
   "display_name": "Python 3",
   "language": "python",
   "name": "python3"
  },
  "language_info": {
   "codemirror_mode": {
    "name": "ipython",
    "version": 3
   },
   "file_extension": ".py",
   "mimetype": "text/x-python",
   "name": "python",
   "nbconvert_exporter": "python",
   "pygments_lexer": "ipython3",
   "version": "3.6.8"
  }
 },
 "nbformat": 4,
 "nbformat_minor": 1
}
