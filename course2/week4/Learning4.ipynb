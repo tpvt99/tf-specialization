{
 "cells": [
  {
   "cell_type": "code",
   "execution_count": 13,
   "metadata": {},
   "outputs": [],
   "source": [
    "import tensorflow as tf\n",
    "from tensorflow.keras.preprocessing.image import ImageDataGenerator\n",
    "import os\n",
    "import numpy as np\n",
    "import matplotlib.pyplot as plt\n",
    "\n",
    "from tensorflow.keras.optimizers import RMSprop"
   ]
  },
  {
   "cell_type": "code",
   "execution_count": 2,
   "metadata": {},
   "outputs": [
    {
     "name": "stdout",
     "output_type": "stream",
     "text": [
      "D:\\CProgrammingLanguage\\tf-specialization\\course2\\data\\rps\\training\\rock\n",
      "D:\\CProgrammingLanguage\\tf-specialization\\course2\\data\\rps\\training\\paper\n",
      "D:\\CProgrammingLanguage\\tf-specialization\\course2\\data\\rps\\training\\scissors\n",
      "Total training rock images:  840\n",
      "Total training paper images:  840\n",
      "Total training scissors images:  840\n",
      "Total validation rock images:  124\n",
      "Total validation paper images:  124\n",
      "Total validation scissors images:  124\n"
     ]
    }
   ],
   "source": [
    "data_dir = os.path.join(os.path.dirname(os.path.abspath('.')), 'data')\n",
    "\n",
    "train_dir = os.path.join(os.path.join(data_dir, 'rps'), 'training')\n",
    "validation_dir = os.path.join(os.path.join(data_dir, 'rps'), 'validation')\n",
    "\n",
    "train_dir_rock = os.path.join(train_dir, 'rock')\n",
    "train_dir_paper = os.path.join(train_dir, 'paper')\n",
    "train_dir_scissors = os.path.join(train_dir, 'scissors')\n",
    "\n",
    "validation_dir_rock = os.path.join(validation_dir, 'rock')\n",
    "validation_dir_paper = os.path.join(validation_dir, 'paper')\n",
    "validation_dir_scissors = os.path.join(validation_dir, 'scissors')\n",
    "\n",
    "print(train_dir_rock)\n",
    "print(train_dir_paper)\n",
    "print(train_dir_scissors)\n",
    "\n",
    "\n",
    "print('Total training rock images: ', len(os.listdir(train_dir_rock)))\n",
    "print('Total training paper images: ', len(os.listdir(train_dir_paper)))\n",
    "print('Total training scissors images: ', len(os.listdir(train_dir_paper)))\n",
    "\n",
    "\n",
    "\n",
    "print('Total validation rock images: ', len(os.listdir(validation_dir_rock)))\n",
    "print('Total validation paper images: ', len(os.listdir(validation_dir_paper)))\n",
    "print('Total validation scissors images: ', len(os.listdir(validation_dir_scissors)))\n"
   ]
  },
  {
   "cell_type": "code",
   "execution_count": 16,
   "metadata": {},
   "outputs": [
    {
     "name": "stdout",
     "output_type": "stream",
     "text": [
      "Found 2520 images belonging to 3 classes.\n",
      "Found 372 images belonging to 3 classes.\n"
     ]
    }
   ],
   "source": [
    "# Data Preparation\n",
    "training_datagen = ImageDataGenerator(\n",
    "    rescale = 1.0 / 255,\n",
    "    rotation_range=40,\n",
    "    width_shift_range=0.2,\n",
    "    height_shift_range=0.2,\n",
    "    shear_range=0.2, \n",
    "    zoom_range=0.2,\n",
    "    fill_mode='nearest',\n",
    "    horizontal_flip=True\n",
    ")\n",
    "\n",
    "validation_datagen = ImageDataGenerator(\n",
    "    rescale = 1.0/255\n",
    ")\n",
    "\n",
    "training_generator = training_datagen.flow_from_directory(\n",
    "    train_dir,\n",
    "    target_size = (150, 150),\n",
    "    class_mode='categorical'\n",
    ")\n",
    "\n",
    "validation_generator = validation_datagen.flow_from_directory(\n",
    "    validation_dir,\n",
    "    target_size = (150, 150),\n",
    "    class_mode='categorical'\n",
    ")"
   ]
  },
  {
   "cell_type": "code",
   "execution_count": 17,
   "metadata": {},
   "outputs": [
    {
     "name": "stdout",
     "output_type": "stream",
     "text": [
      "Model: \"sequential_4\"\n",
      "_________________________________________________________________\n",
      "Layer (type)                 Output Shape              Param #   \n",
      "=================================================================\n",
      "conv2d_20 (Conv2D)           (None, 148, 148, 64)      1792      \n",
      "_________________________________________________________________\n",
      "max_pooling2d_20 (MaxPooling (None, 74, 74, 64)        0         \n",
      "_________________________________________________________________\n",
      "conv2d_21 (Conv2D)           (None, 72, 72, 64)        36928     \n",
      "_________________________________________________________________\n",
      "max_pooling2d_21 (MaxPooling (None, 36, 36, 64)        0         \n",
      "_________________________________________________________________\n",
      "conv2d_22 (Conv2D)           (None, 34, 34, 128)       73856     \n",
      "_________________________________________________________________\n",
      "max_pooling2d_22 (MaxPooling (None, 17, 17, 128)       0         \n",
      "_________________________________________________________________\n",
      "conv2d_23 (Conv2D)           (None, 15, 15, 128)       147584    \n",
      "_________________________________________________________________\n",
      "max_pooling2d_23 (MaxPooling (None, 7, 7, 128)         0         \n",
      "_________________________________________________________________\n",
      "flatten_5 (Flatten)          (None, 6272)              0         \n",
      "_________________________________________________________________\n",
      "dense_9 (Dense)              (None, 512)               3211776   \n",
      "_________________________________________________________________\n",
      "dropout_4 (Dropout)          (None, 512)               0         \n",
      "_________________________________________________________________\n",
      "dense_10 (Dense)             (None, 3)                 1539      \n",
      "=================================================================\n",
      "Total params: 3,473,475\n",
      "Trainable params: 3,473,475\n",
      "Non-trainable params: 0\n",
      "_________________________________________________________________\n",
      "Train for 79 steps, validate for 12 steps\n",
      "Epoch 1/10\n",
      "79/79 [==============================] - 60s 765ms/step - loss: 0.6868 - accuracy: 0.6655 - val_loss: 0.5228 - val_accuracy: 0.7151\n",
      "Epoch 2/10\n",
      "79/79 [==============================] - 57s 728ms/step - loss: 0.4639 - accuracy: 0.7679 - val_loss: 0.1648 - val_accuracy: 0.9812\n",
      "Epoch 3/10\n",
      "79/79 [==============================] - 56s 709ms/step - loss: 0.3089 - accuracy: 0.8644 - val_loss: 0.1160 - val_accuracy: 0.9686\n",
      "Epoch 4/10\n",
      "79/79 [==============================] - 56s 712ms/step - loss: 0.2040 - accuracy: 0.9161 - val_loss: 0.1660 - val_accuracy: 0.9158\n",
      "Epoch 5/10\n",
      "79/79 [==============================] - 56s 703ms/step - loss: 0.1508 - accuracy: 0.9455 - val_loss: 0.0171 - val_accuracy: 1.0000\n",
      "Epoch 6/10\n",
      "79/79 [==============================] - 57s 715ms/step - loss: 0.1066 - accuracy: 0.9590 - val_loss: 0.0986 - val_accuracy: 0.9471\n",
      "Epoch 7/10\n",
      "79/79 [==============================] - 57s 717ms/step - loss: 0.1287 - accuracy: 0.9544 - val_loss: 0.1060 - val_accuracy: 0.9507\n",
      "Epoch 8/10\n",
      "79/79 [==============================] - 55s 700ms/step - loss: 0.0952 - accuracy: 0.9685 - val_loss: 0.0717 - val_accuracy: 0.9659\n",
      "Epoch 9/10\n",
      "79/79 [==============================] - 53s 675ms/step - loss: 0.0764 - accuracy: 0.9770 - val_loss: 0.0136 - val_accuracy: 0.9973\n",
      "Epoch 10/10\n",
      "79/79 [==============================] - 53s 674ms/step - loss: 0.0746 - accuracy: 0.9782 - val_loss: 0.0185 - val_accuracy: 0.9973\n"
     ]
    },
    {
     "data": {
      "text/plain": [
       "<tensorflow.python.keras.callbacks.History at 0x15a005d1240>"
      ]
     },
     "execution_count": 17,
     "metadata": {},
     "output_type": "execute_result"
    }
   ],
   "source": [
    "# Building the model\n",
    "\n",
    "model = tf.keras.Sequential([\n",
    "    tf.keras.layers.Conv2D(filters = 64, kernel_size=(3,3), activation='relu', input_shape=(150, 150, 3)),\n",
    "    tf.keras.layers.MaxPool2D(2,2),\n",
    "    tf.keras.layers.Conv2D(filters = 64, kernel_size = (3,3), activation = 'relu'),\n",
    "    tf.keras.layers.MaxPool2D(2,2),\n",
    "    tf.keras.layers.Conv2D(filters = 128, kernel_size = (3,3), activation = 'relu'),\n",
    "    tf.keras.layers.MaxPool2D(2,2),\n",
    "    tf.keras.layers.Conv2D(filters = 128, kernel_size = (3,3), activation = 'relu'),\n",
    "    tf.keras.layers.MaxPool2D(2,2),\n",
    "    tf.keras.layers.Flatten(),\n",
    "    tf.keras.layers.Dense(units = 512, activation = 'relu'),\n",
    "    tf.keras.layers.Dropout(0.2),\n",
    "    tf.keras.layers.Dense(units = 3, activation = 'softmax')\n",
    "])\n",
    "\n",
    "model.summary()\n",
    "\n",
    "model.compile(optimizer = RMSprop(lr=0.001), \n",
    "              loss='categorical_crossentropy', \n",
    "              metrics=['accuracy'])\n",
    "\n",
    "model.fit(\n",
    "    x = training_generator,\n",
    "    epochs = 10,\n",
    "    validation_data = validation_generator,\n",
    "    verbose = 1\n",
    ")"
   ]
  },
  {
   "cell_type": "code",
   "execution_count": null,
   "metadata": {},
   "outputs": [],
   "source": []
  }
 ],
 "metadata": {
  "kernelspec": {
   "display_name": "Python 3",
   "language": "python",
   "name": "python3"
  },
  "language_info": {
   "codemirror_mode": {
    "name": "ipython",
    "version": 3
   },
   "file_extension": ".py",
   "mimetype": "text/x-python",
   "name": "python",
   "nbconvert_exporter": "python",
   "pygments_lexer": "ipython3",
   "version": "3.6.8"
  }
 },
 "nbformat": 4,
 "nbformat_minor": 1
}
