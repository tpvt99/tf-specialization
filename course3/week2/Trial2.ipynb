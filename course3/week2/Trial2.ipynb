{
 "cells": [
  {
   "cell_type": "code",
   "execution_count": 1,
   "metadata": {},
   "outputs": [],
   "source": [
    "from tensorflow.keras.preprocessing.text import Tokenizer\n",
    "from tensorflow.keras.preprocessing.sequence import pad_sequences\n",
    "import tensorflow as tf"
   ]
  },
  {
   "cell_type": "code",
   "execution_count": 42,
   "metadata": {},
   "outputs": [
    {
     "name": "stdout",
     "output_type": "stream",
     "text": [
      "{'<OOV>': 1, 'ne': 2, 'i': 3, 'like': 4, 'you': 5, 'so': 6, 'much': 7, 'hahah': 8, 'tinh': 9, 'te': 10, 'ahihi': 11, 'bababa': 12}\n",
      "[[3, 4, 1, 1, 1], [1, 1, 1, 2, 2, 1, 1]]\n",
      "['<OOV> ne i like <OOV>', 'ne i']\n"
     ]
    }
   ],
   "source": [
    "tokenizer = Tokenizer(num_words=5, oov_token='<OOV>')\n",
    "sentences = [\n",
    "    'I like you so much',\n",
    "    'Hahah tinh te ne! ne ahihi bababa'\n",
    "]\n",
    "\n",
    "tokenizer.fit_on_texts(sentences)\n",
    "\n",
    "print(tokenizer.word_index)\n",
    "\n",
    "# Because we use num_words =5, even word_index has fullly specified the total \n",
    "# characters, the texts_to_sequences method is not able to convert to correct\n",
    "# sequences.\n",
    "sequences = tokenizer.texts_to_sequences(sentences)\n",
    "print(sequences)\n",
    "\n",
    "# Same for sequences_to_texts\n",
    "print(tokenizer.sequences_to_texts([[1,2,3,4,7], [2,3]]))"
   ]
  },
  {
   "cell_type": "code",
   "execution_count": 43,
   "metadata": {},
   "outputs": [
    {
     "name": "stdout",
     "output_type": "stream",
     "text": [
      "{'<OOV>': 1, 'ne': 2, 'i': 3, 'like': 4, 'you': 5, 'so': 6, 'much': 7, 'hahah': 8, 'tinh': 9, 'te': 10, 'ahihi': 11, 'bababa': 12}\n",
      "[[3, 4, 5, 6, 7], [8, 9, 10, 2, 2, 11, 12]]\n",
      "['<OOV> ne i like much', 'ne i']\n"
     ]
    }
   ],
   "source": [
    "# Use higher numer_words\n",
    "tokenizer = Tokenizer(num_words=20, oov_token='<OOV>')\n",
    "sentences = [\n",
    "    'I like you so much',\n",
    "    'Hahah tinh te ne! ne ahihi bababa'\n",
    "]\n",
    "\n",
    "tokenizer.fit_on_texts(sentences)\n",
    "\n",
    "print(tokenizer.word_index)\n",
    "\n",
    "sequences = tokenizer.texts_to_sequences(sentences)\n",
    "print(sequences)\n",
    "\n",
    "print(tokenizer.sequences_to_texts([[1,2,3,4,7], [2,3]]))"
   ]
  },
  {
   "cell_type": "code",
   "execution_count": 45,
   "metadata": {},
   "outputs": [
    {
     "name": "stdout",
     "output_type": "stream",
     "text": [
      "[[1, 1, 1, 1, 2]]\n",
      "['<OOV> <OOV> <OOV> <OOV> ne']\n"
     ]
    }
   ],
   "source": [
    "# if words not in training data, it will be <OOV> in test data\n",
    "new_sentences = [\n",
    "    'toi la ai vay ne?'\n",
    "]\n",
    "\n",
    "new_sequences = tokenizer.texts_to_sequences(new_sentences)\n",
    "print(new_sequences)\n",
    "print(tokenizer.sequences_to_texts(new_sequences))"
   ]
  },
  {
   "cell_type": "code",
   "execution_count": 46,
   "metadata": {},
   "outputs": [
    {
     "data": {
      "text/plain": [
       "{1: '<OOV>',\n",
       " 2: 'ne',\n",
       " 3: 'i',\n",
       " 4: 'like',\n",
       " 5: 'you',\n",
       " 6: 'so',\n",
       " 7: 'much',\n",
       " 8: 'hahah',\n",
       " 9: 'tinh',\n",
       " 10: 'te',\n",
       " 11: 'ahihi',\n",
       " 12: 'bababa'}"
      ]
     },
     "execution_count": 46,
     "metadata": {},
     "output_type": "execute_result"
    }
   ],
   "source": [
    "indexs_to_words = {value: key for (key, value) in tokenizer.word_index.items()}\n",
    "indexs_to_words"
   ]
  },
  {
   "cell_type": "code",
   "execution_count": 47,
   "metadata": {},
   "outputs": [
    {
     "data": {
      "text/plain": [
       "['<OOV>', 'ne', 'i', 'like', 'much']"
      ]
     },
     "execution_count": 47,
     "metadata": {},
     "output_type": "execute_result"
    }
   ],
   "source": [
    "[indexs_to_words[i] for i in [1,2,3,4,7]]"
   ]
  },
  {
   "cell_type": "code",
   "execution_count": 48,
   "metadata": {},
   "outputs": [
    {
     "data": {
      "text/plain": [
       "array([[ 3,  4,  5,  6,  7],\n",
       "       [10,  2,  2, 11, 12]])"
      ]
     },
     "execution_count": 48,
     "metadata": {},
     "output_type": "execute_result"
    }
   ],
   "source": [
    "pad_sequences(sequences, maxlen=5)"
   ]
  },
  {
   "cell_type": "code",
   "execution_count": null,
   "metadata": {},
   "outputs": [],
   "source": []
  }
 ],
 "metadata": {
  "kernelspec": {
   "display_name": "Python 3",
   "language": "python",
   "name": "python3"
  },
  "language_info": {
   "codemirror_mode": {
    "name": "ipython",
    "version": 3
   },
   "file_extension": ".py",
   "mimetype": "text/x-python",
   "name": "python",
   "nbconvert_exporter": "python",
   "pygments_lexer": "ipython3",
   "version": "3.6.8"
  }
 },
 "nbformat": 4,
 "nbformat_minor": 1
}
