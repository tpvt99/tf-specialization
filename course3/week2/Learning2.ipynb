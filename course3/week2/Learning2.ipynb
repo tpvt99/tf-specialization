{
 "cells": [
  {
   "cell_type": "code",
   "execution_count": 1,
   "metadata": {},
   "outputs": [],
   "source": [
    "from tensorflow.keras.preprocessing.text import Tokenizer\n",
    "from tensorflow.keras.preprocessing.sequence import pad_sequences\n",
    "import tensorflow as tf\n",
    "import tensorflow_datasets as tfds\n",
    "import numpy as np\n",
    "from tensorflow.keras.optimizers import Adam"
   ]
  },
  {
   "cell_type": "code",
   "execution_count": 2,
   "metadata": {},
   "outputs": [
    {
     "name": "stderr",
     "output_type": "stream",
     "text": [
      "WARNING: Logging before flag parsing goes to stderr.\n",
      "W0909 13:51:00.187044 21412 dataset_builder.py:439] Warning: Setting shuffle_files=True because split=TRAIN and shuffle_files=None. This behavior will be deprecated on 2019-08-06, at which point shuffle_files=False will be the default for all splits.\n"
     ]
    }
   ],
   "source": [
    "imdb, info = tfds.load(\"imdb_reviews\", with_info = True, as_supervised=True)"
   ]
  },
  {
   "cell_type": "code",
   "execution_count": 3,
   "metadata": {},
   "outputs": [],
   "source": [
    "train_data, test_data = imdb['train'], imdb['test']\n",
    "\n",
    "train_sentences = []\n",
    "train_labels = []\n",
    "test_sentences = []\n",
    "test_labels = []\n",
    "\n",
    "for data, labels in imdb['train']:\n",
    "    train_sentences.append(data.numpy().decode('utf8'))\n",
    "    train_labels.append(labels.numpy())\n",
    "\n",
    "for data, labels in imdb['test']:\n",
    "    test_sentences.append(data.numpy().decode('utf8'))\n",
    "    test_labels.append(labels.numpy())"
   ]
  },
  {
   "cell_type": "code",
   "execution_count": 4,
   "metadata": {},
   "outputs": [],
   "source": [
    "train_labels = np.array(train_labels)\n",
    "test_labels = np.array(test_labels)"
   ]
  },
  {
   "cell_type": "code",
   "execution_count": 81,
   "metadata": {},
   "outputs": [
    {
     "name": "stdout",
     "output_type": "stream",
     "text": [
      "Train set:  25000\n",
      "Train set:  25000\n"
     ]
    }
   ],
   "source": [
    "print('Train set: ', len(train_sentences))\n",
    "print('Train set: ', len(test_sentences))"
   ]
  },
  {
   "cell_type": "code",
   "execution_count": 5,
   "metadata": {},
   "outputs": [],
   "source": [
    "vocab_size = 10000\n",
    "embedding_dim = 16\n",
    "maxlen = 120\n",
    "truc_type = 'post'\n",
    "oov_tok = '<OOV>'\n",
    "\n",
    "tokenizer = Tokenizer(num_words = vocab_size, oov_token=oov_tok)\n",
    "tokenizer.fit_on_texts(train_sentences)\n",
    "train_sequences = tokenizer.texts_to_sequences(train_sentences)\n",
    "test_sequences = tokenizer.texts_to_sequences(test_sentences)"
   ]
  },
  {
   "cell_type": "code",
   "execution_count": 6,
   "metadata": {},
   "outputs": [],
   "source": [
    "pad_train_sequences = pad_sequences(train_sequences, maxlen = maxlen,\n",
    "                                   truncating = truc_type)\n",
    "pad_test_sequences = pad_sequences(test_sequences, maxlen = maxlen,\n",
    "                                  truncating = truc_type)"
   ]
  },
  {
   "cell_type": "code",
   "execution_count": 13,
   "metadata": {},
   "outputs": [
    {
     "name": "stdout",
     "output_type": "stream",
     "text": [
      "Model: \"sequential_3\"\n",
      "_________________________________________________________________\n",
      "Layer (type)                 Output Shape              Param #   \n",
      "=================================================================\n",
      "embedding_3 (Embedding)      (None, 120, 16)           160000    \n",
      "_________________________________________________________________\n",
      "flatten_3 (Flatten)          (None, 1920)              0         \n",
      "_________________________________________________________________\n",
      "dense_6 (Dense)              (None, 10)                19210     \n",
      "_________________________________________________________________\n",
      "dense_7 (Dense)              (None, 1)                 11        \n",
      "=================================================================\n",
      "Total params: 179,221\n",
      "Trainable params: 179,221\n",
      "Non-trainable params: 0\n",
      "_________________________________________________________________\n",
      "Train on 25000 samples\n",
      "Epoch 1/30\n",
      "25000/25000 - 2s - loss: 0.4917 - accuracy: 0.7393\n",
      "Epoch 2/30\n",
      "25000/25000 - 1s - loss: 0.2293 - accuracy: 0.9136\n",
      "Epoch 3/30\n",
      "25000/25000 - 1s - loss: 0.0716 - accuracy: 0.9820\n",
      "Epoch 4/30\n",
      "25000/25000 - 1s - loss: 0.0132 - accuracy: 0.9985\n",
      "Epoch 5/30\n",
      "25000/25000 - 1s - loss: 0.0029 - accuracy: 1.0000\n",
      "Epoch 6/30\n",
      "25000/25000 - 1s - loss: 0.0011 - accuracy: 1.0000\n",
      "Epoch 7/30\n",
      "25000/25000 - 1s - loss: 5.6559e-04 - accuracy: 1.0000\n",
      "Epoch 8/30\n",
      "25000/25000 - 1s - loss: 3.1969e-04 - accuracy: 1.0000\n",
      "Epoch 9/30\n",
      "25000/25000 - 1s - loss: 1.8745e-04 - accuracy: 1.0000\n",
      "Epoch 10/30\n",
      "25000/25000 - 1s - loss: 1.1267e-04 - accuracy: 1.0000\n",
      "Epoch 11/30\n",
      "25000/25000 - 1s - loss: 7.0533e-05 - accuracy: 1.0000\n",
      "Epoch 12/30\n",
      "25000/25000 - 1s - loss: 4.2951e-05 - accuracy: 1.0000\n",
      "Epoch 13/30\n",
      "25000/25000 - 1s - loss: 2.7251e-05 - accuracy: 1.0000\n",
      "Epoch 14/30\n",
      "25000/25000 - 1s - loss: 1.7001e-05 - accuracy: 1.0000\n",
      "Epoch 15/30\n",
      "25000/25000 - 1s - loss: 1.0894e-05 - accuracy: 1.0000\n",
      "Epoch 16/30\n",
      "25000/25000 - 1s - loss: 6.9068e-06 - accuracy: 1.0000\n",
      "Epoch 17/30\n",
      "25000/25000 - 1s - loss: 4.4160e-06 - accuracy: 1.0000\n",
      "Epoch 18/30\n",
      "25000/25000 - 1s - loss: 2.8285e-06 - accuracy: 1.0000\n",
      "Epoch 19/30\n",
      "25000/25000 - 1s - loss: 1.8195e-06 - accuracy: 1.0000\n",
      "Epoch 20/30\n",
      "25000/25000 - 1s - loss: 1.1937e-06 - accuracy: 1.0000\n",
      "Epoch 21/30\n",
      "25000/25000 - 1s - loss: 7.8120e-07 - accuracy: 1.0000\n",
      "Epoch 22/30\n",
      "25000/25000 - 1s - loss: 5.0236e-07 - accuracy: 1.0000\n",
      "Epoch 23/30\n",
      "25000/25000 - 1s - loss: 3.3304e-07 - accuracy: 1.0000\n",
      "Epoch 24/30\n",
      "25000/25000 - 1s - loss: 2.2159e-07 - accuracy: 1.0000\n",
      "Epoch 25/30\n",
      "25000/25000 - 1s - loss: 1.4793e-07 - accuracy: 1.0000\n",
      "Epoch 26/30\n",
      "25000/25000 - 1s - loss: 1.0035e-07 - accuracy: 1.0000\n",
      "Epoch 27/30\n",
      "25000/25000 - 1s - loss: 6.8998e-08 - accuracy: 1.0000\n",
      "Epoch 28/30\n",
      "25000/25000 - 1s - loss: 4.8632e-08 - accuracy: 1.0000\n",
      "Epoch 29/30\n",
      "25000/25000 - 1s - loss: 3.4598e-08 - accuracy: 1.0000\n",
      "Epoch 30/30\n",
      "25000/25000 - 1s - loss: 2.5563e-08 - accuracy: 1.0000\n"
     ]
    },
    {
     "data": {
      "text/plain": [
       "<tensorflow.python.keras.callbacks.History at 0x1c213bda0f0>"
      ]
     },
     "execution_count": 13,
     "metadata": {},
     "output_type": "execute_result"
    }
   ],
   "source": [
    "model = tf.keras.Sequential([\n",
    "    tf.keras.layers.Embedding(input_dim = vocab_size, \n",
    "                              output_dim = embedding_dim,\n",
    "                             input_length = maxlen),\n",
    "    tf.keras.layers.Flatten(),\n",
    "    tf.keras.layers.Dense(units = 10, activation = 'relu', \n",
    "                         input_shape=(maxlen,)),\n",
    "    tf.keras.layers.Dense(units=1, activation='sigmoid')\n",
    "])\n",
    "model.summary()\n",
    "\n",
    "optimizers = Adam()\n",
    "num_epochs = 30\n",
    "model.compile(optimizer = optimizers, loss='binary_crossentropy',\n",
    "             metrics=['accuracy'])\n",
    "model.fit(x = pad_train_sequences, y = train_labels, epochs=num_epochs, verbose=2)"
   ]
  },
  {
   "cell_type": "code",
   "execution_count": 22,
   "metadata": {},
   "outputs": [],
   "source": [
    "reverse_word_index = dict([(value, key) for (key, value) in tokenizer.word_index.items()])\n",
    "\n",
    "def decode_sequences_to_sentences(sequences):\n",
    "    print(' '.join([reverse_word_index.get(seq, '?') for seq in sequences]))"
   ]
  },
  {
   "cell_type": "code",
   "execution_count": 27,
   "metadata": {},
   "outputs": [
    {
     "name": "stdout",
     "output_type": "stream",
     "text": [
      "[205, 294, 2, 18, 163, 448, 209, 3, 49, 11, 179, 6, 133, 42, 10, 7, 2, 62, 153, 13, 91, 12, 18, 310, 4216, 14, 2, 1, 1, 1047, 237, 425, 162, 19, 13, 22, 58, 146, 708, 2179, 770, 1, 1, 3, 47, 5, 132, 1060, 1430, 31, 209, 9, 2, 18, 1, 7, 405, 53, 1018, 205, 108, 4, 169, 2632, 27, 91, 3, 75, 141, 58, 149, 12, 7, 241, 5, 187, 18, 238, 398, 64, 50, 290, 9, 210, 100, 3, 80, 9, 3279, 97, 11, 2133, 89, 5, 23, 30, 217, 1, 1, 2, 18, 3, 246, 199, 146, 105, 60, 138, 16, 33, 460, 30, 144, 2145, 133, 7, 23, 126, 104, 44, 16, 2, 160, 493, 580, 44, 37, 1, 93, 488, 65, 399, 2, 50, 155, 1, 74, 117]\n",
      "i've watched the movie actually several times and what i want to say about it is the only thing that made this movie high rank was the <OOV> <OOV> incredible performance absolutely nothing but that not even those silly model named <OOV> <OOV> and some of these popular names at times in the movie <OOV> is definitely very talented i've seen a few jobs he made and been through even though this is kind of horror movie he's doing really good job in comedy movies and also in dramas too i bet most of you all saw <OOV> <OOV> the movie and tv series those two would go for an example all i'm gonna say is you better watch out for the new works coming out from <OOV> then you'll see keep the good work <OOV> much love\n",
      "None\n"
     ]
    }
   ],
   "source": [
    "print(test_sequences[0])\n",
    "print(decode_sequences_to_sentences(test_sequences[0]))"
   ]
  },
  {
   "cell_type": "code",
   "execution_count": 39,
   "metadata": {},
   "outputs": [
    {
     "name": "stdout",
     "output_type": "stream",
     "text": [
      "[[-0.01452139  0.02612004  0.02090387 ...  0.02429333 -0.04124185\n",
      "   0.04462695]\n",
      " [-0.05363107  0.02032807  0.06828014 ...  0.08385263 -0.03166177\n",
      "   0.02666487]\n",
      " [-0.04383694  0.03493666  0.05708929 ...  0.02735372  0.00864338\n",
      "   0.08437771]\n",
      " ...\n",
      " [ 0.00169956  0.10563534  0.12230495 ...  0.03065151  0.04660634\n",
      "  -0.08699423]\n",
      " [-0.07812002 -0.04641258 -0.01522218 ...  0.11056425 -0.09137205\n",
      "   0.03208904]\n",
      " [ 0.05956979  0.11263913  0.21002641 ...  0.05550042  0.06000242\n",
      "  -0.06239458]]\n",
      "(10000, 16)\n"
     ]
    }
   ],
   "source": [
    "embed_layer = model.layers[0]\n",
    "embed_layer_weights = embed_layer.get_weights()[0]\n",
    "print(embed_layer_weights)\n",
    "print(embed_layer_weights.shape)"
   ]
  },
  {
   "cell_type": "code",
   "execution_count": 49,
   "metadata": {},
   "outputs": [],
   "source": [
    "import io\n",
    "\n",
    "out_v = io.open('vecs.tsv', 'w', encoding='utf-8')\n",
    "out_m = io.open('meta.tsv', 'w', encoding='utf-8')\n",
    "\n",
    "for i in range(1, vocab_size):\n",
    "    word = reverse_word_index.get(i)\n",
    "    weight = embed_layer_weights[i]\n",
    "    out_m.write(word + \"\\n\")\n",
    "    out_v.write('\\t'.join([str(x) for x in weight]) + \"\\n\")\n",
    "\n",
    "out_m.close()\n",
    "out_v.close()"
   ]
  },
  {
   "cell_type": "code",
   "execution_count": 77,
   "metadata": {},
   "outputs": [
    {
     "name": "stdout",
     "output_type": "stream",
     "text": [
      "[[  0   0   0   0   0   0   0   0   0   0   0   0   0   0   0   0   0   0\n",
      "    0   0   0   0   0   0   0   0   0   0   0   0   0   0   0   0   0   0\n",
      "    0   0   0   0   0   0   0   0   0   0   0   0   0   0   0   0   0   0\n",
      "    0   0   0   0   0   0   0   0   0   0   0   0   0   0   0   0   0   0\n",
      "    0   0   0   0   0   0   0   0   0   0   0   0   0   0   0   0   0   0\n",
      "    0   0   0   0   0   0   0   0   0   0   0   0   0   0   0   0   0  11\n",
      "  781  12  20  36  74  10   7 139   4  76  20 124]]\n"
     ]
    }
   ],
   "source": [
    "# Prediction\n",
    "sentence = ['I hate this film so much. It is such a bad film ever']\n",
    "sequence = tokenizer.texts_to_sequences(sentence)\n",
    "pad_sequence =  pad_sequences(sequence, maxlen = maxlen,\n",
    "                                   truncating = truc_type)\n",
    "print(pad_sequence)"
   ]
  },
  {
   "cell_type": "code",
   "execution_count": 78,
   "metadata": {},
   "outputs": [
    {
     "name": "stdout",
     "output_type": "stream",
     "text": [
      "[[0.00144017]]\n",
      "Bad movie\n"
     ]
    }
   ],
   "source": [
    "print(model.predict(pad_sequence))\n",
    "if model.predict(pad_sequence)[0][0] > 0.5:\n",
    "    print('Good movie')\n",
    "else:\n",
    "    print('Bad movie')"
   ]
  },
  {
   "cell_type": "code",
   "execution_count": 65,
   "metadata": {},
   "outputs": [
    {
     "data": {
      "text/plain": [
       "0"
      ]
     },
     "execution_count": 65,
     "metadata": {},
     "output_type": "execute_result"
    }
   ],
   "source": [
    "test_labels[9]"
   ]
  },
  {
   "cell_type": "code",
   "execution_count": null,
   "metadata": {},
   "outputs": [],
   "source": []
  }
 ],
 "metadata": {
  "kernelspec": {
   "display_name": "Python 3",
   "language": "python",
   "name": "python3"
  },
  "language_info": {
   "codemirror_mode": {
    "name": "ipython",
    "version": 3
   },
   "file_extension": ".py",
   "mimetype": "text/x-python",
   "name": "python",
   "nbconvert_exporter": "python",
   "pygments_lexer": "ipython3",
   "version": "3.6.8"
  }
 },
 "nbformat": 4,
 "nbformat_minor": 2
}
